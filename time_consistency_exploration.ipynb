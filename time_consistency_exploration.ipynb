{
 "cells": [
  {
   "attachments": {},
   "cell_type": "markdown",
   "metadata": {},
   "source": [
    "### The goal here is to visualize a little the masked segmentation in order to better undestand when the heartbeat starts/stops"
   ]
  },
  {
   "cell_type": "code",
   "execution_count": 71,
   "metadata": {},
   "outputs": [],
   "source": [
    "import h5py\n",
    "import numpy as np\n",
    "import matplotlib.pyplot as plt \n",
    "import os"
   ]
  },
  {
   "cell_type": "code",
   "execution_count": 2,
   "metadata": {},
   "outputs": [
    {
     "name": "stdout",
     "output_type": "stream",
     "text": [
      "<KeysViewHDF5 ['sliced_images_train']>\n"
     ]
    },
    {
     "data": {
      "text/plain": [
       "<KeysViewHDF5 ['sliced_images_train']>"
      ]
     },
     "execution_count": 2,
     "metadata": {},
     "output_type": "execute_result"
    }
   ],
   "source": [
    "data_rw = h5py.File('/usr/bmicnas02/data-biwi-01/jeremy_students/data/inselspital/kady/segmenter_rw_pw_hard/train_masked_sliced_images_full_aorta.hdf5')\n",
    "print(data_rw.keys()  )\n",
    "\n",
    "data_cnn = h5py.File('/usr/bmicnas02/data-biwi-01/jeremy_students/lschlyter/CNN-segmentation/logdir/inference_results/unet3d_da_0.0nchannels4_r1_loss_dice_cut_z_False_full_run_only_w_labels_e80_lr_1e-3_AdamW_val_40/train_masked_sliced_images_full_aorta.hdf5')\n",
    "data_cnn.keys()  "
   ]
  },
  {
   "cell_type": "code",
   "execution_count": 3,
   "metadata": {},
   "outputs": [],
   "source": [
    "slices_rw = data_rw['sliced_images_train']\n",
    "slices_cnn = data_cnn['sliced_images_train']\n",
    "slices_rw_np = slices_rw[:]\n",
    "slices_cnn_np = slices_cnn[:]\n",
    "patient_slices_rw_np = slices_rw_np.reshape(27, -1, 32,32,48,4)\n",
    "patient_slices_cnn_np = slices_cnn_np.reshape(28, -1, 32,32,48,4)\n",
    "patient_slices_rw_np.shape, patient_slices_cnn_np.shape"
   ]
  },
  {
   "cell_type": "code",
   "execution_count": 112,
   "metadata": {},
   "outputs": [],
   "source": [
    "mean_patient_rw = abs(patient_slices_rw_np[:,:,:,:,:,1]).mean(axis=(1,2,3))\n",
    "mean_patient_cnn = abs(patient_slices_cnn_np[:,:,:,:,:,1]).mean(axis=(1,2,3))"
   ]
  },
  {
   "cell_type": "code",
   "execution_count": 114,
   "metadata": {},
   "outputs": [
    {
     "data": {
      "text/plain": [
       "(array([3, 3, 3, 2, 4, 4, 3, 4, 3, 4, 4, 3, 4, 4, 4, 4, 4, 4, 5, 4, 4, 4,\n",
       "        4, 4, 3, 4, 4]),\n",
       " array([4, 4, 5, 4, 4, 5, 5, 3, 4, 4, 3, 5, 4, 4, 4, 4, 4, 4, 4, 5, 3, 4,\n",
       "        3, 6, 4, 4, 5, 4]))"
      ]
     },
     "execution_count": 114,
     "metadata": {},
     "output_type": "execute_result"
    }
   ],
   "source": [
    "mean_patient_rw.argmax(axis=1), mean_patient_cnn.argmax(axis=1)"
   ]
  }
 ],
 "metadata": {
  "kernelspec": {
   "display_name": "vtk_wrap",
   "language": "python",
   "name": "python3"
  },
  "language_info": {
   "codemirror_mode": {
    "name": "ipython",
    "version": 3
   },
   "file_extension": ".py",
   "mimetype": "text/x-python",
   "name": "python",
   "nbconvert_exporter": "python",
   "pygments_lexer": "ipython3",
   "version": "3.10.9"
  },
  "orig_nbformat": 4
 },
 "nbformat": 4,
 "nbformat_minor": 2
}
