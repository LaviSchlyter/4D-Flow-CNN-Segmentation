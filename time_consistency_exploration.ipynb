{
 "cells": [
  {
   "attachments": {},
   "cell_type": "markdown",
   "metadata": {},
   "source": [
    "### The goal here is to visualize a little the masked segmentation in order to better undestand when the heartbeat starts/stops"
   ]
  },
  {
   "cell_type": "code",
   "execution_count": 2,
   "metadata": {},
   "outputs": [],
   "source": [
    "import h5py\n",
    "import numpy as np\n",
    "import matplotlib.pyplot as plt \n",
    "import os"
   ]
  },
  {
   "cell_type": "code",
   "execution_count": 4,
   "metadata": {},
   "outputs": [
    {
     "name": "stdout",
     "output_type": "stream",
     "text": [
      "<KeysViewHDF5 ['sliced_images_patients']>\n"
     ]
    }
   ],
   "source": [
    "data_rw = h5py.File('/usr/bmicnas02/data-biwi-01/jeremy_students/data/inselspital/kady/hand_segmented_centerlines/patients_compressed_sensing_masked_sliced_images.hdf5')\n",
    "print(data_rw.keys()  )\n",
    "\n",
    "#data_cnn = h5py.File('/usr/bmicnas02/data-biwi-01/jeremy_students/lschlyter/CNN-segmentation/logdir/inference_results/unet3d_da_0.0nchannels4_r1_loss_dice_cut_z_False_full_run_only_w_labels_e80_lr_1e-3_AdamW_val_40/train_masked_sliced_images_full_aorta.hdf5')\n",
    "#data_cnn.keys()  "
   ]
  },
  {
   "cell_type": "code",
   "execution_count": 9,
   "metadata": {},
   "outputs": [
    {
     "name": "stdout",
     "output_type": "stream",
     "text": [
      "(8, 64, 32, 32, 48, 4)\n"
     ]
    },
    {
     "data": {
      "text/plain": [
       "array([2, 1, 2, 2, 3, 2, 4, 2])"
      ]
     },
     "execution_count": 9,
     "metadata": {},
     "output_type": "execute_result"
    }
   ],
   "source": [
    "slices_rw = data_rw['sliced_images_patients']\n",
    "slices_rw_np = slices_rw[:]\n",
    "patient_slices_rw_np = slices_rw_np.reshape(-1, 64, 32,32,48,4)\n",
    "print(patient_slices_rw_np.shape)\n",
    "\n",
    "mean_patient_rw = abs(patient_slices_rw_np[:,:,:,:,:,1]).mean(axis=(1,2,3))\n",
    "mean_patient_rw.argmax(axis=1)\n"
   ]
  },
  {
   "cell_type": "code",
   "execution_count": 112,
   "metadata": {},
   "outputs": [],
   "source": []
  },
  {
   "cell_type": "code",
   "execution_count": null,
   "metadata": {},
   "outputs": [],
   "source": [
    "slices_cnn = data_cnn['sliced_images_train']\n",
    "slices_cnn_np = slices_cnn[:]\n",
    "patient_slices_cnn_np = slices_cnn_np.reshape(28, -1, 32,32,48,4)\n",
    "patient_slices_cnn_np.shape\n",
    "mean_patient_cnn = abs(patient_slices_cnn_np[:,:,:,:,:,1]).mean(axis=(1,2,3))\n",
    "mean_patient_cnn.argmax(axis=1)\n"
   ]
  },
  {
   "cell_type": "code",
   "execution_count": 114,
   "metadata": {},
   "outputs": [
    {
     "data": {
      "text/plain": [
       "(array([3, 3, 3, 2, 4, 4, 3, 4, 3, 4, 4, 3, 4, 4, 4, 4, 4, 4, 5, 4, 4, 4,\n",
       "        4, 4, 3, 4, 4]),\n",
       " array([4, 4, 5, 4, 4, 5, 5, 3, 4, 4, 3, 5, 4, 4, 4, 4, 4, 4, 4, 5, 3, 4,\n",
       "        3, 6, 4, 4, 5, 4]))"
      ]
     },
     "execution_count": 114,
     "metadata": {},
     "output_type": "execute_result"
    }
   ],
   "source": [
    ", mean_patient_cnn.argmax(axis=1)"
   ]
  }
 ],
 "metadata": {
  "kernelspec": {
   "display_name": "vtk_wrap",
   "language": "python",
   "name": "python3"
  },
  "language_info": {
   "codemirror_mode": {
    "name": "ipython",
    "version": 3
   },
   "file_extension": ".py",
   "mimetype": "text/x-python",
   "name": "python",
   "nbconvert_exporter": "python",
   "pygments_lexer": "ipython3",
   "version": "3.11.0"
  },
  "orig_nbformat": 4
 },
 "nbformat": 4,
 "nbformat_minor": 2
}
