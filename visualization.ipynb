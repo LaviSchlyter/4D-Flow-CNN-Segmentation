{
 "cells": [
  {
   "cell_type": "code",
   "execution_count": null,
   "metadata": {},
   "outputs": [],
   "source": [
    "import numpy as np\n",
    "import matplotlib.pyplot as plt\n",
    "import os\n",
    "\n",
    "import torch\n",
    "import model_zoo\n",
    "\n",
    "import data_freiburg_numpy_to_hdf5"
   ]
  },
  {
   "cell_type": "code",
   "execution_count": null,
   "metadata": {},
   "outputs": [],
   "source": [
    "\n",
    "\n",
    "# ======================================================================\n",
    "debug_dir = \"/usr/bmicnas02/data-biwi-01/jeremy_students/lschlyter/CNN-segmentation/logdir/unet3d_da_0.0nchannels1_rrun_small_image_set/results/visualization/\""
   ]
  },
  {
   "cell_type": "code",
   "execution_count": null,
   "metadata": {},
   "outputs": [],
   "source": [
    "list_files_train = os.listdir(debug_dir + 'training/')\n",
    "image_number_train = 0\n",
    "list_files_train"
   ]
  },
  {
   "cell_type": "code",
   "execution_count": null,
   "metadata": {},
   "outputs": [],
   "source": [
    "image_filter_train = list(filter(lambda x: f'_image_{image_number_train}' in x, list_files_train))\n",
    "image_filter_train"
   ]
  },
  {
   "cell_type": "code",
   "execution_count": null,
   "metadata": {},
   "outputs": [],
   "source": [
    "step = 400\n",
    "pred_train = np.load(os.path.join(debug_dir,'training', list(filter(lambda x: f'_{step}' in x, image_filter_train))[0]))\n",
    "gt_train = np.load(os.path.join(debug_dir,'training', list(filter(lambda x: f'_{step}' in x, image_filter_train))[1]))\n",
    "input_train = np.load(os.path.join(debug_dir,'training', list(filter(lambda x: f'_{step}' in x, image_filter_train))[2]))\n",
    "np.where(gt_train ==1), np.where(pred_train ==1)\n"
   ]
  },
  {
   "cell_type": "code",
   "execution_count": null,
   "metadata": {},
   "outputs": [],
   "source": [
    "pred_train.shape, gt_train.shape, input_train.shape"
   ]
  },
  {
   "cell_type": "code",
   "execution_count": null,
   "metadata": {},
   "outputs": [],
   "source": [
    "def plot_batches(array, input_image = False):\n",
    "\n",
    "    if input_image:\n",
    "        fig, axs = plt.subplots(2, 4, figsize=(10,10))\n",
    "        for n, ax in enumerate(axs.reshape(-1)):\n",
    "            ax.imshow(array[n,0,:,:,3])\n",
    "        plt.show()\n",
    "    else:\n",
    "        fig, axs = plt.subplots(2, 4, figsize=(10,10))\n",
    "        for n, ax in enumerate(axs.reshape(-1)):\n",
    "            ax.imshow(array[n,:,:,3])\n",
    "        plt.show()"
   ]
  },
  {
   "cell_type": "code",
   "execution_count": null,
   "metadata": {},
   "outputs": [],
   "source": [
    "plot_batches(pred_train)"
   ]
  },
  {
   "cell_type": "code",
   "execution_count": null,
   "metadata": {},
   "outputs": [],
   "source": [
    "plot_batches(gt_train)"
   ]
  },
  {
   "cell_type": "code",
   "execution_count": null,
   "metadata": {},
   "outputs": [],
   "source": [
    "plot_batches(input_train, input_image= True)"
   ]
  },
  {
   "cell_type": "code",
   "execution_count": null,
   "metadata": {},
   "outputs": [],
   "source": [
    "fig, axs = plt.subplots(5, 5, figsize=(10, 10))\n",
    "batch_image = 1\n",
    "for i, ax in enumerate(axs.reshape(-1)):\n",
    "    \n",
    "    ax.imshow(pred_train[batch_image, :, :, i])\n"
   ]
  },
  {
   "cell_type": "code",
   "execution_count": null,
   "metadata": {},
   "outputs": [],
   "source": [
    "fig, axs = plt.subplots(5, 5, figsize=(10, 10))\n",
    "\n",
    "for i, ax in enumerate(axs.reshape(-1)):\n",
    "    \n",
    "    ax.imshow(gt_train[batch_image, :, :, i])\n"
   ]
  },
  {
   "cell_type": "code",
   "execution_count": null,
   "metadata": {},
   "outputs": [],
   "source": [
    "fig, axs = plt.subplots(5, 5, figsize=(10, 10))\n",
    "\n",
    "for i, ax in enumerate(axs.reshape(-1)):\n",
    "    \n",
    "    ax.imshow(input_train[batch_image, 1,:, :, i])\n"
   ]
  },
  {
   "cell_type": "code",
   "execution_count": null,
   "metadata": {},
   "outputs": [],
   "source": [
    "# load saved model\n",
    "loss = \"dice\"\n",
    "out_channels = 2\n",
    "in_channels = 4\n",
    "model_path = f'/usr/bmicnas02/data-biwi-01/jeremy_students/lschlyter/CNN-segmentation/logdir/unet3d_da_0.25nchannels{in_channels}_rclean_03_{loss}'\n",
    "best_model_path = os.path.join(model_path, list(filter(lambda x: 'best' in x, os.listdir(model_path)))[-1])\n",
    "\n",
    "model = model_zoo.UNet(in_channels, out_channels)\n",
    "model.load_state_dict(torch.load(best_model_path, map_location=torch.device('cpu')))\n",
    "model.eval()"
   ]
  },
  {
   "cell_type": "code",
   "execution_count": null,
   "metadata": {},
   "outputs": [],
   "source": [
    "project_data_root = '/usr/bmicnas02/data-biwi-01/jeremy_students/previous_work/nicolas/data/freiburg'\n",
    "data_vl = data_freiburg_numpy_to_hdf5.load_data(basepath = project_data_root,\n",
    "\n",
    "                                                        idx_start = 20,\n",
    "                                                        idx_end = 24,\n",
    "                                                        train_test='validation')\n",
    "images_vl = data_vl['images_validation']\n",
    "labels_vl = data_vl['labels_validation']        "
   ]
  },
  {
   "cell_type": "code",
   "execution_count": null,
   "metadata": {},
   "outputs": [],
   "source": [
    "images_vl.shape, labels_vl.shape"
   ]
  },
  {
   "cell_type": "code",
   "execution_count": null,
   "metadata": {},
   "outputs": [],
   "source": [
    "# Data augmentation dimension \n",
    "# Set trian inside the loop "
   ]
  },
  {
   "cell_type": "code",
   "execution_count": null,
   "metadata": {},
   "outputs": [],
   "source": [
    "batch_size = 8\n",
    "np.random.seed(0)\n",
    "inputs = images_vl[np.sort(np.random.randint(len(images_vl), size = batch_size))]\n",
    "np.random.seed(0)\n",
    "labels = labels_vl[np.sort(np.random.randint(len(images_vl), size = batch_size))]\n",
    "\n",
    "inputs = torch.from_numpy(inputs)\n",
    "# Input (batch_size, channell,x,y,z)\n",
    "inputs.transpose_(1,4).transpose_(2,4).transpose_(3,4)\n",
    "labels = torch.from_numpy(labels)"
   ]
  },
  {
   "cell_type": "code",
   "execution_count": null,
   "metadata": {},
   "outputs": [],
   "source": [
    "pred = model(inputs)"
   ]
  },
  {
   "cell_type": "code",
   "execution_count": null,
   "metadata": {},
   "outputs": [],
   "source": [
    "import torch.nn.functional as F\n",
    "prediction = F.softmax(pred, dim=1).argmax(dim = 1)"
   ]
  },
  {
   "cell_type": "code",
   "execution_count": null,
   "metadata": {},
   "outputs": [],
   "source": [
    "prediction.shape, labels.shape"
   ]
  },
  {
   "cell_type": "code",
   "execution_count": null,
   "metadata": {},
   "outputs": [],
   "source": [
    "%matplotlib inline\n",
    "def plot_time(t = 0):\n",
    "    fig, axs = plt.subplots(4,4);\n",
    "    img = 0\n",
    "    for i, ax in enumerate(axs.reshape(-1)):\n",
    "        \n",
    "        if i%2 == 0:\n",
    "            ax.imshow(prediction[img,:,:,t].detach().numpy())\n",
    "            \n",
    "\n",
    "        else:\n",
    "            ax.imshow(labels[img,:,:,t].detach().numpy())   \n",
    "            img = img + 1 \n",
    "    fig.show()"
   ]
  },
  {
   "cell_type": "code",
   "execution_count": null,
   "metadata": {},
   "outputs": [],
   "source": [
    "plot_time(0)"
   ]
  },
  {
   "cell_type": "code",
   "execution_count": null,
   "metadata": {},
   "outputs": [],
   "source": [
    "plot_time(1)"
   ]
  },
  {
   "cell_type": "code",
   "execution_count": null,
   "metadata": {},
   "outputs": [],
   "source": [
    "plot_time(20)"
   ]
  },
  {
   "cell_type": "code",
   "execution_count": null,
   "metadata": {},
   "outputs": [],
   "source": [
    "results_dir = '/usr/bmicnas02/data-biwi-01/jeremy_students/lschlyter/CNN-segmentation/logdir/unet3d_da_0.0nchannels4_rdebug_entropy_one_patient/results/visualization/training'\n",
    "list_files = os.listdir(results_dir)\n",
    "list_files"
   ]
  },
  {
   "cell_type": "code",
   "execution_count": null,
   "metadata": {},
   "outputs": [],
   "source": [
    "image_number = 0\n",
    "image_filter = list(filter(lambda x: f'_image_{image_number}' in x, list_files))"
   ]
  },
  {
   "cell_type": "code",
   "execution_count": null,
   "metadata": {},
   "outputs": [],
   "source": [
    "epoch = 540\n",
    "pred = np.load(os.path.join(results_dir, list(filter(lambda x: f'step_{epoch}' in x, image_filter))[0]))\n",
    "gt = np.load(os.path.join(results_dir, list(filter(lambda x: f'step_{epoch}' in x, image_filter))[1]))\n",
    "np.where(gt ==1), np.where(pred ==1)\n"
   ]
  },
  {
   "cell_type": "code",
   "execution_count": null,
   "metadata": {},
   "outputs": [],
   "source": [
    "pred.shape"
   ]
  },
  {
   "cell_type": "code",
   "execution_count": null,
   "metadata": {},
   "outputs": [],
   "source": [
    "fig, axs = plt.subplots(5, 5, figsize=(10, 10))\n",
    "\n",
    "for i, ax in enumerate(axs.reshape(-1)):\n",
    "    \n",
    "    ax.imshow(pred[7, :, :, i])\n"
   ]
  },
  {
   "cell_type": "code",
   "execution_count": null,
   "metadata": {},
   "outputs": [],
   "source": [
    "fig, axs = plt.subplots(5, 5, figsize=(10, 10))\n",
    "\n",
    "for i, ax in enumerate(axs.reshape(-1)):\n",
    "    \n",
    "    ax.imshow(gt[7, :, :, i])\n"
   ]
  },
  {
   "cell_type": "code",
   "execution_count": null,
   "metadata": {},
   "outputs": [],
   "source": [
    "\n",
    "plt.imshow(pred[4, :, :, 10], cmap='gray'), \n",
    "#plt.imshow(gt[0, :, :, 0], cmap='gray')"
   ]
  },
  {
   "cell_type": "code",
   "execution_count": null,
   "metadata": {},
   "outputs": [],
   "source": []
  },
  {
   "cell_type": "code",
   "execution_count": null,
   "metadata": {},
   "outputs": [],
   "source": [
    "results_dir_debug = '/usr/bmicnas02/data-biwi-01/jeremy_students/lschlyter/CNN-segmentation/logdir/unet3d_da_0.0nchannels4_rsingle_image_cross_1000_direct_cross_loss/results/visualization/'"
   ]
  },
  {
   "cell_type": "code",
   "execution_count": null,
   "metadata": {},
   "outputs": [],
   "source": [
    "list_files_train = os.listdir(results_dir_debug + 'training/')\n",
    "image_number_train = 0\n",
    "image_filter_train = list(filter(lambda x: f'_image_{image_number_train}' in x, list_files_train))"
   ]
  },
  {
   "cell_type": "code",
   "execution_count": null,
   "metadata": {},
   "outputs": [],
   "source": [
    "step = 600\n",
    "pred_train = np.load(os.path.join(results_dir_debug,'training', list(filter(lambda x: f'_{step}' in x, list_files_train))[0]))\n",
    "gt_train = np.load(os.path.join(results_dir_debug,'training', list(filter(lambda x: f'_{step}' in x, list_files_train))[1]))\n",
    "np.where(gt_train ==1), np.where(pred_train ==1)\n"
   ]
  },
  {
   "cell_type": "code",
   "execution_count": null,
   "metadata": {},
   "outputs": [],
   "source": [
    "fig, axs = plt.subplots(5, 5, figsize=(10, 10))\n",
    "\n",
    "for i, ax in enumerate(axs.reshape(-1)):\n",
    "    \n",
    "    ax.imshow(pred_train[0, :, :, i])\n"
   ]
  },
  {
   "cell_type": "code",
   "execution_count": null,
   "metadata": {},
   "outputs": [],
   "source": [
    "fig, axs = plt.subplots(5, 5, figsize=(10, 10))\n",
    "\n",
    "for i, ax in enumerate(axs.reshape(-1)):\n",
    "    \n",
    "    ax.imshow(gt_train[0, :, :, i])\n"
   ]
  },
  {
   "cell_type": "code",
   "execution_count": null,
   "metadata": {},
   "outputs": [],
   "source": [
    "(gt_train[0,...,15] == gt_train[0,...,40]).all()"
   ]
  },
  {
   "cell_type": "code",
   "execution_count": null,
   "metadata": {},
   "outputs": [],
   "source": []
  },
  {
   "cell_type": "code",
   "execution_count": null,
   "metadata": {},
   "outputs": [],
   "source": []
  },
  {
   "cell_type": "code",
   "execution_count": null,
   "metadata": {},
   "outputs": [],
   "source": [
    "# Shitty test to check batches \n",
    "\n",
    "path = \"/usr/bmicnas02/data-biwi-01/jeremy_students/lschlyter/CNN-segmentation/testing_batches/batch1\""
   ]
  },
  {
   "cell_type": "code",
   "execution_count": null,
   "metadata": {},
   "outputs": [],
   "source": [
    "img = np.load(os.path.join(path, 'images.npy'))\n",
    "seg = np.load(os.path.join(path, 'labels.npy'))"
   ]
  },
  {
   "cell_type": "code",
   "execution_count": null,
   "metadata": {},
   "outputs": [],
   "source": [
    "img.shape, seg.shape"
   ]
  },
  {
   "cell_type": "code",
   "execution_count": null,
   "metadata": {},
   "outputs": [],
   "source": [
    "plot_batches(img)"
   ]
  },
  {
   "cell_type": "code",
   "execution_count": null,
   "metadata": {},
   "outputs": [],
   "source": [
    "plot_batches(seg)"
   ]
  },
  {
   "cell_type": "code",
   "execution_count": null,
   "metadata": {},
   "outputs": [],
   "source": [
    "# Different main debug\n",
    "path_data_debug_main = \"/usr/bmicnas02/data-biwi-01/jeremy_students/lschlyter/CNN-segmentation/testing_batches/cut_channel_1_debug_01/\""
   ]
  },
  {
   "cell_type": "code",
   "execution_count": null,
   "metadata": {},
   "outputs": [],
   "source": [
    "os.listdir(path_data_debug_main)"
   ]
  },
  {
   "cell_type": "code",
   "execution_count": null,
   "metadata": {},
   "outputs": [],
   "source": [
    "n = 120\n",
    "from scipy.special import softmax\n",
    "\n",
    "\n",
    "img = np.load(os.path.join(path_data_debug_main, f'images_{n}.npy'))\n",
    "\n",
    "seg = np.load(os.path.join(path_data_debug_main, f'labels_{n}.npy'))\n",
    "\n",
    "pred = np.load(os.path.join(path_data_debug_main, f'prediction_{n}.npy'))\n",
    "\n",
    "img.shape, seg.shape, pred.shape"
   ]
  },
  {
   "cell_type": "code",
   "execution_count": null,
   "metadata": {},
   "outputs": [],
   "source": [
    "plot_batches(img, input_image= True)"
   ]
  },
  {
   "cell_type": "code",
   "execution_count": null,
   "metadata": {},
   "outputs": [],
   "source": [
    "plot_batches(seg)"
   ]
  },
  {
   "cell_type": "code",
   "execution_count": null,
   "metadata": {},
   "outputs": [],
   "source": [
    "plot_batches(softmax(pred, axis = 1).argmax(axis = 1))"
   ]
  },
  {
   "cell_type": "code",
   "execution_count": null,
   "metadata": {},
   "outputs": [],
   "source": [
    "seg.shape, softmax(pred, axis = 1).argmax(axis = 1).shape"
   ]
  },
  {
   "cell_type": "code",
   "execution_count": null,
   "metadata": {},
   "outputs": [],
   "source": [
    "%matplotlib inline\n",
    "def plot_time_(t = 0):\n",
    "    fig, axs = plt.subplots(4,4);\n",
    "    img = 0\n",
    "    for i, ax in enumerate(axs.reshape(-1)):\n",
    "        \n",
    "        if i%2 == 0:\n",
    "            ax.imshow(softmax(pred, axis = 1).argmax(axis = 1)[img,:,:,t])\n",
    "            \n",
    "\n",
    "        else:\n",
    "            ax.imshow(seg[img,:,:,t])   \n",
    "            img = img + 1 \n",
    "    fig.show()"
   ]
  },
  {
   "cell_type": "code",
   "execution_count": null,
   "metadata": {},
   "outputs": [],
   "source": [
    "plot_time_(0)"
   ]
  },
  {
   "cell_type": "code",
   "execution_count": null,
   "metadata": {},
   "outputs": [],
   "source": [
    "# Check single image ouput\n",
    "path_single_image = \"/usr/bmicnas02/data-biwi-01/jeremy_students/lschlyter/CNN-segmentation/testing_batches/cut_channel_1_debug_01/\"\n"
   ]
  },
  {
   "cell_type": "code",
   "execution_count": null,
   "metadata": {},
   "outputs": [],
   "source": [
    "plt.imshow(in_[2, :, :, 1,1])"
   ]
  },
  {
   "cell_type": "code",
   "execution_count": null,
   "metadata": {},
   "outputs": [],
   "source": [
    "plt.imshow(out_[2, :, :, 1])"
   ]
  },
  {
   "cell_type": "code",
   "execution_count": null,
   "metadata": {},
   "outputs": [],
   "source": [
    "\n",
    "\n",
    "\n",
    "path_cut_2 = \"/usr/bmicnas02/data-biwi-01/jeremy_students/lschlyter/CNN-segmentation/logdir/unet3d_da_0.0nchannels4_r_phase_dice_cut_z_2_debug_print_input/\"\n",
    "\n",
    "input_cut = np.load(path_cut_2 + 'inputs_train.npy')"
   ]
  },
  {
   "cell_type": "code",
   "execution_count": null,
   "metadata": {},
   "outputs": [],
   "source": [
    "\n",
    "label_cut = np.load(path_cut_2 + 'labels_train.npy')"
   ]
  },
  {
   "cell_type": "code",
   "execution_count": null,
   "metadata": {},
   "outputs": [],
   "source": [
    "input_cut.shape\n",
    "slice_ = 0"
   ]
  },
  {
   "cell_type": "code",
   "execution_count": null,
   "metadata": {},
   "outputs": [],
   "source": [
    "%matplotlib inline\n",
    "plt.imshow(input_cut[slice_, :,:, 3,1])\n",
    "plt.imshow(label_cut[slice_, :,:, 3], alpha= 0.1)\n",
    "slice_ +=1 \n",
    "plt.show()"
   ]
  },
  {
   "cell_type": "code",
   "execution_count": null,
   "metadata": {},
   "outputs": [],
   "source": [
    "project_data_root = '/usr/bmicnas02/data-biwi-01/jeremy_students/previous_work/nicolas/data/freiburg'\n",
    "data_tr = data_freiburg_numpy_to_hdf5.load_data(basepath = project_data_root,\n",
    "                                                    idx_start = 0,\n",
    "                                                    idx_end = 19,\n",
    "                                                    train_test='train')\n",
    "images_tr = data_tr['images_train']\n",
    "labels_tr = data_tr['labels_train']"
   ]
  },
  {
   "cell_type": "code",
   "execution_count": null,
   "metadata": {},
   "outputs": [],
   "source": []
  },
  {
   "cell_type": "code",
   "execution_count": null,
   "metadata": {},
   "outputs": [],
   "source": [
    "#slice_ = 0\n",
    "%matplotlib inline\n",
    "plt.imshow(images_tr[slice_, :,:, 3,1])\n",
    "plt.show()\n",
    "plt.imshow(images_tr[slice_, :,:, 3,0])\n",
    "plt.imshow(labels_tr[slice_, :,:, 3], alpha= 0.1)\n",
    "slice_ +=1 \n",
    "plt.show()"
   ]
  },
  {
   "cell_type": "code",
   "execution_count": null,
   "metadata": {},
   "outputs": [],
   "source": []
  },
  {
   "cell_type": "code",
   "execution_count": null,
   "metadata": {},
   "outputs": [],
   "source": []
  }
 ],
 "metadata": {
  "kernelspec": {
   "display_name": "hpc",
   "language": "python",
   "name": "python3"
  },
  "language_info": {
   "codemirror_mode": {
    "name": "ipython",
    "version": 3
   },
   "file_extension": ".py",
   "mimetype": "text/x-python",
   "name": "python",
   "nbconvert_exporter": "python",
   "pygments_lexer": "ipython3",
   "version": "3.10.10"
  },
  "orig_nbformat": 4
 },
 "nbformat": 4,
 "nbformat_minor": 2
}
