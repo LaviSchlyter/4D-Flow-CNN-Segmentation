{
 "cells": [
  {
   "cell_type": "code",
   "execution_count": 3,
   "metadata": {},
   "outputs": [],
   "source": [
    "%matplotlib inline\n",
    "import os\n",
    "import h5py\n",
    "import numpy as np\n",
    "#import dataset_processing.data_freiburg_subject_ordering as subjects_ordering\n",
    "#import dataset_processing.config.system as sys_config\n",
    "from scipy.ndimage import gaussian_filter\n",
    "\n",
    "\n",
    "import SimpleITK as sitk\n",
    "import math\n",
    "from scipy import interpolate\n",
    "\n",
    "from matplotlib import pyplot as plt\n",
    "from skimage.morphology import skeletonize_3d, binary_dilation, dilation, cube\n",
    "\n",
    "from utils import normalize_image\n",
    "\n",
    "\n",
    "from utils_centerline import (load_masked_data, show_center_lines,load_cropped_data_sliced, \n",
    "load_cropped_data_straightened, extract_slice_from_sitk_image, load_masked_data_sliced,\n",
    "create_center_lines, show_center_lines)"
   ]
  },
  {
   "cell_type": "code",
   "execution_count": 4,
   "metadata": {},
   "outputs": [
    {
     "name": "stdout",
     "output_type": "stream",
     "text": [
      "['seg_MACDAVD_101_.npy', 'seg_MACDAVD_102_.npy', 'seg_MACDAVD_103_.npy', 'seg_MACDAVD_104_.npy', 'seg_MACDAVD_105_.npy', 'seg_MACDAVD_106_.npy']\n",
      "['MACDAVD_101_.npy', 'MACDAVD_102_.npy', 'MACDAVD_103_.npy', 'MACDAVD_104_.npy', 'MACDAVD_105_.npy', 'MACDAVD_106_.npy', 'MACDAVD_107_.npy', 'MACDAVD_108_.npy', 'MACDAVD_109_.npy', 'MACDAVD_145_.npy', 'MACDAVD_148_.npy', 'MACDAVD_150_.npy', 'MACDAVD_152_.npy', 'MACDAVD_154_.npy', 'MACDAVD_110_.npy', 'MACDAVD_111_.npy', 'MACDAVD_113_.npy', 'MACDAVD_114_.npy', 'MACDAVD_115_.npy', 'MACDAVD_116_.npy', 'MACDAVD_117_.npy', 'MACDAVD_118_.npy', 'MACDAVD_119_.npy', 'MACDAVD_120_.npy', 'MACDAVD_121_.npy', 'MACDAVD_122_.npy', 'MACDAVD_123_.npy', 'MACDAVD_124_.npy', 'MACDAVD_125_.npy', 'MACDAVD_126_.npy', 'MACDAVD_127_.npy', 'MACDAVD_128_.npy', 'MACDAVD_129_.npy', 'MACDAVD_130_.npy', 'MACDAVD_131_.npy', 'MACDAVD_132_.npy', 'MACDAVD_133_.npy', 'MACDAVD_135_.npy', 'MACDAVD_136_.npy', 'MACDAVD_137_.npy', 'MACDAVD_138_.npy', 'MACDAVD_112_.npy', 'MACDAVD_134_.npy', 'MACDAVD_139_.npy', 'MACDAVD_140_.npy', 'MACDAVD_141_.npy', 'MACDAVD_142_.npy', 'MACDAVD_143_.npy', 'MACDAVD_144_.npy', 'MACDAVD_146_.npy', 'MACDAVD_155_.npy', 'MACDAVD_147_.npy', 'MACDAVD_149_.npy', 'MACDAVD_151_.npy', 'MACDAVD_153_.npy']\n"
     ]
    },
    {
     "data": {
      "text/plain": [
       "(None, None)"
      ]
     },
     "execution_count": 4,
     "metadata": {},
     "output_type": "execute_result"
    }
   ],
   "source": [
    "control_seg_path = \"/usr/bmicnas02/data-biwi-01/jeremy_students/data/inselspital/kady/segmenter_rw_pw_hard/controls\"\n",
    "control_path = \"/usr/bmicnas02/data-biwi-01/jeremy_students/data/inselspital/kady/preprocessed/controls/numpy\"\n",
    "basepath = \"/usr/bmicnas02/data-biwi-01/jeremy_students/data/inselspital/kady\"\n",
    "print(os.listdir(control_seg_path)), print(os.listdir(control_path))"
   ]
  },
  {
   "cell_type": "code",
   "execution_count": 7,
   "metadata": {},
   "outputs": [],
   "source": [
    "#img = np.load(os.path.join(control_path, os.listdir(control_path)[0]))\n",
    "#seg = np.load(os.path.join(control_seg_path, os.listdir(control_seg_path)[0]))\n",
    "\n",
    "#img = np.load(\"/usr/bmicnas02/data-biwi-01/jeremy_students/previous_work/nicolas/data/freiburg/3/10000000/10000001/image.npy\")\n",
    "#seg = np.load(\"/usr/bmicnas02/data-biwi-01/jeremy_students/previous_work/nicolas/data/freiburg/3/10000000/10000001/random_walker_prediction.npy\")\n",
    "model_path = '/usr/bmicnas02/data-biwi-01/jeremy_students/lschlyter/CNN-segmentation/logdir/unet3d_da_0.0nchannels4_r1_loss_dice_cut_z_True_full_run_bern_full'\n",
    "save_path_pred = model_path + \"/results/visualization/Bern_patient_level_prediction/\"\n",
    "file_name = 'freiburg_model_prediction_105.npy'\n",
    "seg = np.load(os.path.join(save_path_pred, file_name))\n",
    "img = np.load(os.path.join(control_path, os.listdir(control_path)[4]))"
   ]
  },
  {
   "cell_type": "code",
   "execution_count": 8,
   "metadata": {},
   "outputs": [
    {
     "data": {
      "text/plain": [
       "((160, 110, 48, 25, 4), (144, 112, 42, 48))"
      ]
     },
     "execution_count": 8,
     "metadata": {},
     "output_type": "execute_result"
    }
   ],
   "source": [
    "img.shape, seg.shape"
   ]
  },
  {
   "cell_type": "code",
   "execution_count": null,
   "metadata": {},
   "outputs": [],
   "source": [
    "try:\n",
    "    debug_in = img\n",
    "    debug_label = seg\n",
    "    #slice_ = 0\n",
    "    print(slice_)\n",
    "    %matplotlib inline\n",
    "    plt.imshow(debug_in[:, :,slice_, 3,0])\n",
    "    plt.show()\n",
    "    plt.imshow(debug_in[:, :,slice_, 3,0])\n",
    "    plt.imshow(debug_label[:, :,slice_, 3], alpha= 0.1)\n",
    "    slice_ +=1 \n",
    "    plt.show()\n",
    "except:\n",
    "    pass"
   ]
  },
  {
   "attachments": {},
   "cell_type": "markdown",
   "metadata": {},
   "source": [
    "##### Masked data \n",
    "- I am loading both the Bern data and also some from Freiburg with the original script to make sure I am on track"
   ]
  },
  {
   "cell_type": "code",
   "execution_count": null,
   "metadata": {},
   "outputs": [],
   "source": [
    "basepath = \"/usr/bmicnas02/data-biwi-01/jeremy_students/data/inselspital/kady\"\n",
    "#masked_data = h5py.File(basepath + '/masked_images_from_101_to_104.hdf5','r')\n",
    "masked_data = load_masked_data(basepath, 101, 104, 'train')\n",
    "images_masked = masked_data['masked_images_train']\n",
    "labels_masked = masked_data['masked_images_train']"
   ]
  },
  {
   "cell_type": "code",
   "execution_count": null,
   "metadata": {},
   "outputs": [],
   "source": [
    "\n",
    "\n",
    "masked_data_fr = h5py.File(\"/usr/bmicnas02/data-biwi-01/jeremy_students/previous_work/nicolas/data/freiburg/masked_images_from20to26.hdf5\",'r')\n",
    "images_masked_fr = masked_data_fr['masked_images_validation']"
   ]
  },
  {
   "cell_type": "code",
   "execution_count": null,
   "metadata": {},
   "outputs": [],
   "source": [
    "images_masked.shape, labels_masked.shape"
   ]
  },
  {
   "cell_type": "code",
   "execution_count": null,
   "metadata": {},
   "outputs": [],
   "source": [
    "import matplotlib\n",
    "masked_array = np.ma.masked_where(images_masked[:, :,:, 3,1] == 0, images_masked[:, :,:, 3,1])\n",
    "\n",
    "cmap = matplotlib.cm.viridis  # Can be any colormap that you want after the cm\n",
    "cmap.set_bad(color='black')\n"
   ]
  },
  {
   "cell_type": "code",
   "execution_count": null,
   "metadata": {},
   "outputs": [],
   "source": [
    "%matplotlib inline\n",
    "plt.imshow(images_masked[50, :,:, 3,1])\n",
    "plt.colorbar()\n",
    "plt.show()"
   ]
  },
  {
   "cell_type": "code",
   "execution_count": null,
   "metadata": {},
   "outputs": [],
   "source": [
    "masked_array.shape"
   ]
  },
  {
   "cell_type": "code",
   "execution_count": null,
   "metadata": {},
   "outputs": [],
   "source": [
    "fig, axs = plt.subplots(5,5, figsize=(10,10))\n",
    "ax = axs.ravel()\n",
    "for i in range(25):\n",
    "    ax[i].imshow(masked_array[(i+6), :,:], cmap=cmap)\n",
    "    #ax[i].set_title(i)\n",
    "    ax[i].axis('off')"
   ]
  },
  {
   "cell_type": "code",
   "execution_count": null,
   "metadata": {},
   "outputs": [],
   "source": [
    "%matplotlib inline\n",
    "print(\"Freiburg\")\n",
    "plt.imshow(images_masked_fr[21, :,:, 3,1])\n",
    "plt.show()"
   ]
  },
  {
   "attachments": {},
   "cell_type": "markdown",
   "metadata": {},
   "source": [
    "##### Cropped data and sliced orthogonally"
   ]
  },
  {
   "cell_type": "code",
   "execution_count": null,
   "metadata": {},
   "outputs": [],
   "source": [
    "cropped_sliced_data = load_cropped_data_sliced(basepath, 101, 104, 'train', force_overwrite=False)\n",
    "#cropped_sliced_data = h5py.File(basepath + '/sliced_images_from101_to_104.hdf5','r')\n",
    "images_cropped_sliced = cropped_sliced_data['sliced_images_train']\n",
    "     "
   ]
  },
  {
   "cell_type": "code",
   "execution_count": null,
   "metadata": {},
   "outputs": [],
   "source": [
    "cropped_sliced_data_fr = h5py.File(\"/usr/bmicnas02/data-biwi-01/jeremy_students/previous_work/nicolas/data/freiburg/sliced_images_from20to26.hdf5\",'r')\n",
    "images_cropped_sliced_fr = cropped_sliced_data_fr['sliced_images_validation']"
   ]
  },
  {
   "attachments": {},
   "cell_type": "markdown",
   "metadata": {},
   "source": [
    "#### Now let's load the masked one and show them side by side"
   ]
  },
  {
   "cell_type": "code",
   "execution_count": null,
   "metadata": {},
   "outputs": [],
   "source": [
    "masked_cropped_sliced_data = load_masked_data_sliced(basepath, 101, 104, 'train', force_overwrite=False)\n",
    "masked_images_cropped_sliced = masked_cropped_sliced_data['sliced_images_train']"
   ]
  },
  {
   "cell_type": "code",
   "execution_count": null,
   "metadata": {},
   "outputs": [],
   "source": [
    "masked_cropped_sliced_data_fr = h5py.File(\"/usr/bmicnas02/data-biwi-01/jeremy_students/previous_work/nicolas/data/freiburg/masked_sliced_images_from20to26.hdf5\",'r')\n",
    "masked_images_cropped_sliced_fr = masked_cropped_sliced_data_fr['sliced_images_validation']"
   ]
  },
  {
   "cell_type": "code",
   "execution_count": null,
   "metadata": {},
   "outputs": [],
   "source": [
    "masked_images_cropped_sliced.shape, images_cropped_sliced.shape, masked_images_cropped_sliced_fr.shape, images_cropped_sliced_fr.shape"
   ]
  },
  {
   "cell_type": "code",
   "execution_count": null,
   "metadata": {},
   "outputs": [],
   "source": [
    "256/4"
   ]
  },
  {
   "cell_type": "code",
   "execution_count": null,
   "metadata": {},
   "outputs": [],
   "source": [
    "z_slice = 45\n",
    "z_slices = np.linspace(0, 64, 18, dtype=int)\n",
    "time_slice = 2\n",
    "channel_slice = 1\n",
    "fig, axs = plt.subplots(6,6, figsize=(14,14))\n",
    "ax = axs.ravel()\n",
    "z_i = 0 \n",
    "masked_array = np.ma.masked_where(masked_images_cropped_sliced[:, :,:, time_slice,channel_slice] == 0, masked_images_cropped_sliced[:, :,:, time_slice,channel_slice])\n",
    "\n",
    "cmap = matplotlib.cm.viridis  # Can be any colormap that you want after the cm\n",
    "cmap.set_bad(color='black')\n",
    "\n",
    "for i in range(36):\n",
    "    if i %2 == 0:\n",
    "\n",
    "        ax[i].imshow(images_cropped_sliced[z_slices[z_i], :,:, time_slice,channel_slice])\n",
    "    else:\n",
    "        ax[i].imshow(masked_array[z_slices[z_i], :,:], cmap=cmap)\n",
    "        z_i +=1\n",
    "    #ax[i].set_title(i)\n",
    "    ax[i].axis('off')\n",
    "#axs[0].imshow(images_cropped_sliced[z_slice, :,:, time_slice,channel_slice])\n",
    "#axs[1].imshow(masked_images_cropped_sliced[z_slice, :,:, time_slice,channel_slice])\n",
    "plt.show()"
   ]
  },
  {
   "cell_type": "code",
   "execution_count": null,
   "metadata": {},
   "outputs": [],
   "source": [
    "print(\"Freiburg data\") \n",
    "fig, axs = plt.subplots(1,2)\n",
    "axs[0].imshow(images_cropped_sliced_fr[z_slice, :,:, time_slice,channel_slice])\n",
    "axs[1].imshow(masked_images_cropped_sliced_fr[z_slice, :,:, time_slice,channel_slice])\n",
    "plt.show()\n"
   ]
  },
  {
   "attachments": {},
   "cell_type": "markdown",
   "metadata": {},
   "source": [
    "### Let's create the centerlines \n",
    "\n",
    "I think these are the following step:\n",
    "1. show_center_lines - to get the indexes of the coordinates at which the centerline is located\n",
    "2. Write these indexes in create_center_lines to create them ? "
   ]
  },
  {
   "cell_type": "code",
   "execution_count": null,
   "metadata": {},
   "outputs": [],
   "source": [
    "show_center_lines(basepath)"
   ]
  },
  {
   "cell_type": "code",
   "execution_count": null,
   "metadata": {},
   "outputs": [],
   "source": [
    "create_center_lines(basepath = basepath)"
   ]
  },
  {
   "cell_type": "code",
   "execution_count": null,
   "metadata": {},
   "outputs": [],
   "source": []
  },
  {
   "cell_type": "code",
   "execution_count": null,
   "metadata": {},
   "outputs": [],
   "source": []
  },
  {
   "cell_type": "code",
   "execution_count": null,
   "metadata": {},
   "outputs": [],
   "source": []
  },
  {
   "cell_type": "code",
   "execution_count": null,
   "metadata": {},
   "outputs": [],
   "source": []
  },
  {
   "cell_type": "code",
   "execution_count": null,
   "metadata": {},
   "outputs": [],
   "source": [
    "images_cropped_sliced_straighten = load_cropped_data_straightened(basepath, 101, 104, 'train', force_overwrite=False)\n",
    "images_cropped_sliced_straighten = images_cropped_sliced_straighten[\"straightened_images_train\"]"
   ]
  },
  {
   "cell_type": "code",
   "execution_count": null,
   "metadata": {},
   "outputs": [],
   "source": [
    "(images_cropped_sliced_straighten[:] == 0).all()"
   ]
  },
  {
   "cell_type": "code",
   "execution_count": null,
   "metadata": {},
   "outputs": [],
   "source": [
    "\n",
    "\n",
    "\n",
    "plt.imshow(images_cropped_sliced_straighten[120, :,:, 10,0])\n",
    "plt.show()"
   ]
  },
  {
   "cell_type": "code",
   "execution_count": null,
   "metadata": {},
   "outputs": [],
   "source": [
    "i = 0\n",
    "subject_sliced = images_cropped_sliced[i*64:(i+1)*64,:,:,:,:]"
   ]
  },
  {
   "cell_type": "code",
   "execution_count": null,
   "metadata": {},
   "outputs": [],
   "source": [
    "#plot_batch_3d(subject_sliced, channel=0, every_x_time_step=5, out_path= \"Validation_Subject_Channel0_\" + str(i) + \".png\")"
   ]
  },
  {
   "cell_type": "code",
   "execution_count": null,
   "metadata": {},
   "outputs": [],
   "source": []
  },
  {
   "cell_type": "code",
   "execution_count": null,
   "metadata": {},
   "outputs": [],
   "source": []
  }
 ],
 "metadata": {
  "kernelspec": {
   "display_name": "center",
   "language": "python",
   "name": "python3"
  },
  "language_info": {
   "codemirror_mode": {
    "name": "ipython",
    "version": 3
   },
   "file_extension": ".py",
   "mimetype": "text/x-python",
   "name": "python",
   "nbconvert_exporter": "python",
   "pygments_lexer": "ipython3",
   "version": "3.10.11"
  },
  "orig_nbformat": 4
 },
 "nbformat": 4,
 "nbformat_minor": 2
}
