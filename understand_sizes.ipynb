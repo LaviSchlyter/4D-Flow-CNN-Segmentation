{
 "cells": [
  {
   "cell_type": "code",
   "execution_count": 6,
   "metadata": {},
   "outputs": [],
   "source": [
    "import data_freiburg_numpy_to_hdf5\n",
    "import config.system as sys_config\n",
    "import h5py"
   ]
  },
  {
   "cell_type": "code",
   "execution_count": 3,
   "metadata": {},
   "outputs": [
    {
     "name": "stdout",
     "output_type": "stream",
     "text": [
      "Already preprocessed this configuration. Loading now...\n",
      "Shape of training images: (640, 144, 112, 48, 4)\n",
      "Shape of training labels: (640, 144, 112, 48)\n"
     ]
    }
   ],
   "source": [
    "data_tr = data_freiburg_numpy_to_hdf5.load_data(basepath = sys_config.project_data_freiburg_root,\n",
    "                                                idx_start = 0,\n",
    "                                                idx_end = 19,\n",
    "                                                train_test='train')\n",
    "images_tr = data_tr['images_train']\n",
    "labels_tr = data_tr['labels_train']\n",
    "    \n",
    "print('Shape of training images: %s' %str(images_tr.shape)) # expected: [img_size_z*num_images, img_size_x, vol_size_y, img_size_t, n_channels]\n",
    "print('Shape of training labels: %s' %str(labels_tr.shape)) # expected: [img_size_z*num_images, img_size_x, vol_size_y, img_size_t]"
   ]
  },
  {
   "cell_type": "code",
   "execution_count": 7,
   "metadata": {},
   "outputs": [],
   "source": [
    "# Bern all slices\n",
    "bern_all_path= '/usr/bmicnas02/data-biwi-01/jeremy_students/lschlyter/CNN-segmentation/data/bern_images_and_labels_from_101_to_121.hdf5'\n",
    "data_bern_all = h5py.File(bern_all_path, 'r')\n"
   ]
  },
  {
   "cell_type": "code",
   "execution_count": 9,
   "metadata": {},
   "outputs": [
    {
     "data": {
      "text/plain": [
       "<HDF5 dataset \"images_train\": shape (1148, 144, 112, 48, 4), type \"<f4\">"
      ]
     },
     "execution_count": 9,
     "metadata": {},
     "output_type": "execute_result"
    }
   ],
   "source": [
    "data_bern_all['images_train']"
   ]
  },
  {
   "cell_type": "code",
   "execution_count": 10,
   "metadata": {},
   "outputs": [
    {
     "data": {
      "text/plain": [
       "<HDF5 dataset \"images_train\": shape (840, 144, 112, 48, 4), type \"<f4\">"
      ]
     },
     "execution_count": 10,
     "metadata": {},
     "output_type": "execute_result"
    }
   ],
   "source": [
    "bern_40_path = '/usr/bmicnas02/data-biwi-01/jeremy_students/lschlyter/CNN-segmentation/data/size_40_bern_images_and_labels_from_101_to_121.hdf5'\n",
    "data_bern_40 = h5py.File(bern_40_path, 'r')\n",
    "data_bern_40['images_train']"
   ]
  },
  {
   "cell_type": "code",
   "execution_count": 11,
   "metadata": {},
   "outputs": [
    {
     "data": {
      "text/plain": [
       "<HDF5 dataset \"images_validation\": shape (240, 144, 112, 48, 4), type \"<f4\">"
      ]
     },
     "execution_count": 11,
     "metadata": {},
     "output_type": "execute_result"
    }
   ],
   "source": [
    "bern_40_val_path = '/usr/bmicnas02/data-biwi-01/jeremy_students/lschlyter/CNN-segmentation/data/size_40_bern_images_and_labels_from_122_to_127.hdf5'\n",
    "data_bern_40_val = h5py.File(bern_40_val_path, 'r')\n",
    "data_bern_40_val['images_validation']"
   ]
  }
 ],
 "metadata": {
  "kernelspec": {
   "display_name": "seg",
   "language": "python",
   "name": "python3"
  },
  "language_info": {
   "codemirror_mode": {
    "name": "ipython",
    "version": 3
   },
   "file_extension": ".py",
   "mimetype": "text/x-python",
   "name": "python",
   "nbconvert_exporter": "python",
   "pygments_lexer": "ipython3",
   "version": "3.11.0"
  }
 },
 "nbformat": 4,
 "nbformat_minor": 2
}
