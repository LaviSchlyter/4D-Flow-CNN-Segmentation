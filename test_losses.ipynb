{
 "cells": [
  {
   "cell_type": "code",
   "execution_count": 31,
   "metadata": {},
   "outputs": [],
   "source": [
    "import torch\n",
    "import torch.nn.functional as F\n",
    "import tensorflow as tf\n",
    "import numpy as np"
   ]
  },
  {
   "cell_type": "code",
   "execution_count": 6,
   "metadata": {},
   "outputs": [],
   "source": [
    "def compute_dice_torch(logits, labels, epsilon=1e-10):\n",
    "    '''\n",
    "    Computes the dice score between logits and labels\n",
    "    :param logits: Network output before softmax\n",
    "    :param labels: ground truth label masks\n",
    "    :param epsilon: A small constant to avoid division by 0\n",
    "    :return: dice (per label, per image in the batch)\n",
    "    '''\n",
    "\n",
    "    #TODO check dimension\n",
    "    prediction = F.softmax(logits, dim=1)\n",
    "    intersection = torch.mul(prediction, labels)\n",
    "    # labels = [8,2,144,112,48]\n",
    "\n",
    "    reduction_axes = [2,3,4]        \n",
    "    # compute area of intersection, area of GT, area of prediction (per image per label)\n",
    "    tp = torch.sum(intersection, dim=reduction_axes)\n",
    "    tp_plus_fp = torch.sum(prediction, dim=reduction_axes)\n",
    "    tp_plus_fn = torch.sum(labels, dim=reduction_axes)\n",
    "\n",
    "    # compute dice (per image per label)\n",
    "    dice = 2 * tp / (tp_plus_fp + tp_plus_fn + epsilon)\n",
    "\n",
    "    # =============================\n",
    "    # if a certain label is missing in the GT of a certain image and also in the prediction,\n",
    "    # dice[this_image,this_label] will be incorrectly computed as zero whereas it should be 1.\n",
    "    # =============================\n",
    "\n",
    "    # mean over all images in the batch and over all labels.\n",
    "    mean_dice = torch.mean(dice)\n",
    "\n",
    "    # mean over all images in the batch and over all foreground labels.\n",
    "    mean_fg_dice = torch.mean(dice[:, 1:])\n",
    "\n",
    "    return dice, mean_dice, mean_fg_dice\n"
   ]
  },
  {
   "cell_type": "code",
   "execution_count": 7,
   "metadata": {},
   "outputs": [],
   "source": [
    "## ======================================================================\n",
    "def compute_dice(logits, labels, epsilon=1e-10):\n",
    "    '''\n",
    "    Computes the dice score between logits and labels\n",
    "    :param logits: Network output before softmax\n",
    "    :param labels: ground truth label masks\n",
    "    :param epsilon: A small constant to avoid division by 0\n",
    "    :return: dice (per label, per image in the batch)\n",
    "    '''\n",
    "\n",
    "    with tf.name_scope('dice'):\n",
    "\n",
    "        prediction = tf.nn.softmax(logits)\n",
    "        intersection = tf.multiply(prediction, labels)\n",
    "        \n",
    "        reduction_axes = [1,2,3]        \n",
    "        # compute area of intersection, area of GT, area of prediction (per image per label)\n",
    "        tp = tf.reduce_sum(intersection, axis=reduction_axes) \n",
    "        tp_plus_fp = tf.reduce_sum(prediction, axis=reduction_axes) \n",
    "        tp_plus_fn = tf.reduce_sum(labels, axis=reduction_axes)\n",
    "\n",
    "        # compute dice (per image per label)\n",
    "        dice = 2 * tp / (tp_plus_fp + tp_plus_fn + epsilon)\n",
    "        \n",
    "        # =============================\n",
    "        # if a certain label is missing in the GT of a certain image and also in the prediction,\n",
    "        # dice[this_image,this_label] will be incorrectly computed as zero whereas it should be 1.\n",
    "        # =============================\n",
    "        \n",
    "        # mean over all images in the batch and over all labels.\n",
    "        mean_dice = tf.reduce_mean(dice)\n",
    "        \n",
    "        # mean over all images in the batch and over all foreground labels.\n",
    "        mean_fg_dice = tf.reduce_mean(dice[:,1:])\n",
    "        \n",
    "    return dice, mean_dice, mean_fg_dice\n",
    "\n",
    "## ======================================================================"
   ]
  },
  {
   "cell_type": "code",
   "execution_count": 32,
   "metadata": {},
   "outputs": [],
   "source": [
    "np_input = np.random.rand(8,2,144,112,48)\n",
    "np_labels = np.random.rand(8,2,144,112,48)"
   ]
  },
  {
   "cell_type": "code",
   "execution_count": 34,
   "metadata": {},
   "outputs": [],
   "source": [
    "np_tf_input = np.transpose(np_input, (0,2,3,4,1))\n",
    "np_tf_labels = np.transpose(np_labels, (0,2,3,4,1))"
   ]
  },
  {
   "cell_type": "code",
   "execution_count": 40,
   "metadata": {},
   "outputs": [],
   "source": [
    "logits = tf.convert_to_tensor(np_tf_input, dtype=tf.float64)\n",
    "labels = tf.convert_to_tensor(np_tf_labels, dtype=tf.float64)"
   ]
  },
  {
   "cell_type": "code",
   "execution_count": 41,
   "metadata": {},
   "outputs": [
    {
     "data": {
      "text/plain": [
       "(<tf.Tensor: shape=(8, 2), dtype=float64, numpy=\n",
       " array([[0.49994906, 0.49997942],\n",
       "        [0.49998991, 0.50003429],\n",
       "        [0.49985629, 0.50030285],\n",
       "        [0.49991537, 0.5000407 ],\n",
       "        [0.50032763, 0.50015519],\n",
       "        [0.49999868, 0.50010628],\n",
       "        [0.49980817, 0.49987502],\n",
       "        [0.49971379, 0.49980308]])>,\n",
       " <tf.Tensor: shape=(), dtype=float64, numpy=0.49999098155824306>,\n",
       " <tf.Tensor: shape=(), dtype=float64, numpy=0.5000371016073819>)"
      ]
     },
     "execution_count": 41,
     "metadata": {},
     "output_type": "execute_result"
    }
   ],
   "source": [
    "compute_dice(logits, labels)"
   ]
  },
  {
   "cell_type": "code",
   "execution_count": 42,
   "metadata": {},
   "outputs": [],
   "source": [
    "logits_torch = torch.from_numpy(np_input)\n",
    "labels_torch = torch.from_numpy(np_labels)"
   ]
  },
  {
   "cell_type": "code",
   "execution_count": 43,
   "metadata": {},
   "outputs": [
    {
     "data": {
      "text/plain": [
       "(tensor([[0.4999, 0.5000],\n",
       "         [0.5000, 0.5000],\n",
       "         [0.4999, 0.5003],\n",
       "         [0.4999, 0.5000],\n",
       "         [0.5003, 0.5002],\n",
       "         [0.5000, 0.5001],\n",
       "         [0.4998, 0.4999],\n",
       "         [0.4997, 0.4998]], dtype=torch.float64),\n",
       " tensor(0.5000, dtype=torch.float64),\n",
       " tensor(0.5000, dtype=torch.float64))"
      ]
     },
     "execution_count": 43,
     "metadata": {},
     "output_type": "execute_result"
    }
   ],
   "source": [
    "compute_dice_torch(logits_torch, labels_torch)"
   ]
  },
  {
   "cell_type": "code",
   "execution_count": null,
   "metadata": {},
   "outputs": [],
   "source": []
  }
 ],
 "metadata": {
  "kernelspec": {
   "display_name": "hpc",
   "language": "python",
   "name": "python3"
  },
  "language_info": {
   "codemirror_mode": {
    "name": "ipython",
    "version": 3
   },
   "file_extension": ".py",
   "mimetype": "text/x-python",
   "name": "python",
   "nbconvert_exporter": "python",
   "pygments_lexer": "ipython3",
   "version": "3.10.10"
  },
  "orig_nbformat": 4
 },
 "nbformat": 4,
 "nbformat_minor": 2
}
